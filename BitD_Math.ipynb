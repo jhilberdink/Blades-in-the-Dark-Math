{
 "cells": [
  {
   "cell_type": "code",
   "execution_count": 1,
   "metadata": {},
   "outputs": [],
   "source": [
    "import pandas as pd\n",
    "from itertools import product"
   ]
  },
  {
   "cell_type": "code",
   "execution_count": 13,
   "metadata": {},
   "outputs": [],
   "source": [
    "import tabulate"
   ]
  },
  {
   "cell_type": "code",
   "execution_count": 2,
   "metadata": {},
   "outputs": [
    {
     "data": {
      "text/plain": [
       "[[0, 75, 22, 3, 0]]"
      ]
     },
     "execution_count": 2,
     "metadata": {},
     "output_type": "execute_result"
    }
   ],
   "source": [
    "# get results for zero dice\n",
    "all_results = []\n",
    "\n",
    "# initializing K\n",
    "k = 2\n",
    "# using product() to get Combinations and repeat to get elements\n",
    "combos = list(product(range(1, 7), repeat = k))\n",
    "\n",
    "# parse combinations, taking lower result from each\n",
    "dice = 0\n",
    "crit = 0\n",
    "success = 0\n",
    "mixed = 0\n",
    "fail = 0\n",
    "total = 36\n",
    "for combo in combos:\n",
    "    if min(combo) == 6:\n",
    "        success += 1\n",
    "    elif min(combo) >= 4:\n",
    "        mixed += 1\n",
    "    else: fail +=1\n",
    "percent_success = round(success / total * 100)\n",
    "percent_mixed = round(mixed / total * 100)\n",
    "percent_fail = round(fail / total * 100)\n",
    "results = [dice, percent_fail, percent_mixed, percent_success, crit]\n",
    "all_results.append(results)\n",
    "all_results"
   ]
  },
  {
   "cell_type": "code",
   "execution_count": 3,
   "metadata": {},
   "outputs": [
    {
     "data": {
      "text/plain": [
       "[[0, 75, 22, 3, 0],\n",
       " [1, 50, 33, 17, 0],\n",
       " [2, 25, 44, 28, 3],\n",
       " [3, 12, 45, 35, 7],\n",
       " [4, 6, 42, 39, 13],\n",
       " [5, 3, 37, 40, 20],\n",
       " [6, 2, 32, 40, 26],\n",
       " [7, 1, 27, 39, 33]]"
      ]
     },
     "execution_count": 3,
     "metadata": {},
     "output_type": "execute_result"
    }
   ],
   "source": [
    "# get results for non-zero dice pools\n",
    "\n",
    "# loop through pool totals from one to seven\n",
    "for i in range(7):\n",
    "\n",
    "# initializing K\n",
    "    k = i + 1\n",
    "    # using product() to get Combinations and repeat to get elements\n",
    "    combos = list(product(range(1, 7), repeat = k))\n",
    "    \n",
    "    # parse the combinations for outcomes\n",
    "    dice = k\n",
    "    crit = 0\n",
    "    success = 0\n",
    "    mixed = 0\n",
    "    fail = 0\n",
    "    total = 6**k\n",
    "    for combo in combos:\n",
    "        if combo.count(6) >= 2:\n",
    "            crit += 1\n",
    "        elif max(combo) == 6:\n",
    "            success += 1\n",
    "        elif max(combo) >= 4:\n",
    "            mixed += 1\n",
    "        else:\n",
    "            fail += 1\n",
    "    percent_crit = round(crit / total * 100)\n",
    "    percent_success = round(success / total * 100)\n",
    "    percent_mixed = round(mixed / total * 100)\n",
    "    percent_fail = round(fail / total * 100)\n",
    "    results = [dice, percent_fail, percent_mixed, percent_success, percent_crit]\n",
    "    all_results.append(results)\n",
    "all_results"
   ]
  },
  {
   "cell_type": "code",
   "execution_count": 42,
   "metadata": {
    "scrolled": true
   },
   "outputs": [
    {
     "data": {
      "text/html": [
       "<div>\n",
       "<style scoped>\n",
       "    .dataframe tbody tr th:only-of-type {\n",
       "        vertical-align: middle;\n",
       "    }\n",
       "\n",
       "    .dataframe tbody tr th {\n",
       "        vertical-align: top;\n",
       "    }\n",
       "\n",
       "    .dataframe thead th {\n",
       "        text-align: right;\n",
       "    }\n",
       "</style>\n",
       "<table border=\"1\" class=\"dataframe\">\n",
       "  <thead>\n",
       "    <tr style=\"text-align: right;\">\n",
       "      <th></th>\n",
       "      <th>Dice</th>\n",
       "      <th>Failure</th>\n",
       "      <th>Mixed</th>\n",
       "      <th>Success</th>\n",
       "      <th>Critical</th>\n",
       "    </tr>\n",
       "  </thead>\n",
       "  <tbody>\n",
       "    <tr>\n",
       "      <th>0</th>\n",
       "      <td>0</td>\n",
       "      <td>75</td>\n",
       "      <td>22</td>\n",
       "      <td>3</td>\n",
       "      <td>0</td>\n",
       "    </tr>\n",
       "    <tr>\n",
       "      <th>1</th>\n",
       "      <td>1</td>\n",
       "      <td>50</td>\n",
       "      <td>33</td>\n",
       "      <td>17</td>\n",
       "      <td>0</td>\n",
       "    </tr>\n",
       "    <tr>\n",
       "      <th>2</th>\n",
       "      <td>2</td>\n",
       "      <td>25</td>\n",
       "      <td>44</td>\n",
       "      <td>28</td>\n",
       "      <td>3</td>\n",
       "    </tr>\n",
       "    <tr>\n",
       "      <th>3</th>\n",
       "      <td>3</td>\n",
       "      <td>12</td>\n",
       "      <td>45</td>\n",
       "      <td>35</td>\n",
       "      <td>7</td>\n",
       "    </tr>\n",
       "    <tr>\n",
       "      <th>4</th>\n",
       "      <td>4</td>\n",
       "      <td>6</td>\n",
       "      <td>42</td>\n",
       "      <td>39</td>\n",
       "      <td>13</td>\n",
       "    </tr>\n",
       "    <tr>\n",
       "      <th>5</th>\n",
       "      <td>5</td>\n",
       "      <td>3</td>\n",
       "      <td>37</td>\n",
       "      <td>40</td>\n",
       "      <td>20</td>\n",
       "    </tr>\n",
       "    <tr>\n",
       "      <th>6</th>\n",
       "      <td>6</td>\n",
       "      <td>2</td>\n",
       "      <td>32</td>\n",
       "      <td>40</td>\n",
       "      <td>26</td>\n",
       "    </tr>\n",
       "    <tr>\n",
       "      <th>7</th>\n",
       "      <td>7</td>\n",
       "      <td>1</td>\n",
       "      <td>27</td>\n",
       "      <td>39</td>\n",
       "      <td>33</td>\n",
       "    </tr>\n",
       "  </tbody>\n",
       "</table>\n",
       "</div>"
      ],
      "text/plain": [
       "   Dice  Failure  Mixed  Success  Critical\n",
       "0     0       75     22        3         0\n",
       "1     1       50     33       17         0\n",
       "2     2       25     44       28         3\n",
       "3     3       12     45       35         7\n",
       "4     4        6     42       39        13\n",
       "5     5        3     37       40        20\n",
       "6     6        2     32       40        26\n",
       "7     7        1     27       39        33"
      ]
     },
     "execution_count": 42,
     "metadata": {},
     "output_type": "execute_result"
    }
   ],
   "source": [
    "# Create a dataframe with the action roll probabilities\n",
    "action_df = pd.DataFrame(all_results, columns=['Dice', 'Failure', 'Mixed', 'Success', 'Critical'])\n",
    "action_df"
   ]
  },
  {
   "cell_type": "code",
   "execution_count": 40,
   "metadata": {},
   "outputs": [
    {
     "name": "stdout",
     "output_type": "stream",
     "text": [
      "|   Dice | Failure   | Mixed   | Success   | Critical   |\n",
      "|-------:|:----------|:--------|:----------|:-----------|\n",
      "|      0 | 75%       | 22%     | 3%        | 0%         |\n",
      "|      1 | 50%       | 33%     | 17%       | 0%         |\n",
      "|      2 | 25%       | 44%     | 28%       | 3%         |\n",
      "|      3 | 12%       | 45%     | 35%       | 7%         |\n",
      "|      4 | 6%        | 42%     | 39%       | 13%        |\n",
      "|      5 | 3%        | 37%     | 40%       | 20%        |\n",
      "|      6 | 2%        | 32%     | 40%       | 26%        |\n",
      "|      7 | 1%        | 27%     | 39%       | 33%        |\n"
     ]
    }
   ],
   "source": [
    "action_df_formatted = action_df\n",
    "action_df_formatted['Failure'] = action_df_formatted['Failure'].map('{}%'.format)\n",
    "action_df_formatted['Mixed'] = action_df_formatted['Mixed'].map('{}%'.format)\n",
    "action_df_formatted['Success'] = action_df_formatted['Success'].map('{}%'.format)\n",
    "action_df_formatted['Critical'] = action_df_formatted['Critical'].map('{}%'.format)\n",
    "print(action_df_formatted.to_markdown(index=False))"
   ]
  },
  {
   "cell_type": "code",
   "execution_count": 5,
   "metadata": {},
   "outputs": [],
   "source": [
    "from matplotlib import pyplot as plt"
   ]
  },
  {
   "cell_type": "code",
   "execution_count": 44,
   "metadata": {
    "scrolled": true
   },
   "outputs": [
    {
     "data": {
      "image/png": "[encoded data removed]",
      "text/plain": [
       "<Figure size 720x432 with 1 Axes>"
      ]
     },
     "metadata": {
      "needs_background": "light"
     },
     "output_type": "display_data"
    }
   ],
   "source": [
    "plt.subplots(figsize=(10, 6))\n",
    "plt.plot(action_df['Dice'], action_df['Failure'], color='red')\n",
    "plt.plot(action_df['Dice'], action_df['Mixed'], color='gold')\n",
    "plt.plot(action_df['Dice'], action_df['Success'], color='green')\n",
    "plt.plot(action_df['Dice'], action_df['Critical'], color='blue')\n",
    "plt.grid(True)\n",
    "plt.xlabel('Number of Dice')\n",
    "plt.ylabel('Percent Chance')\n",
    "plt.legend(['Failure', 'Mixed', 'Success', 'Crit'], loc='upper right')\n",
    "plt.savefig('action.png')"
   ]
  },
  {
   "cell_type": "code",
   "execution_count": 7,
   "metadata": {},
   "outputs": [
    {
     "data": {
      "text/plain": [
       "[[0, 31, 25, 19, 14, 8, 1, 0]]"
      ]
     },
     "execution_count": 7,
     "metadata": {},
     "output_type": "execute_result"
    }
   ],
   "source": [
    "# Calculate probabilities for resistance rolls\n",
    "\n",
    "# Resistance with zero dice\n",
    "# get results for zero dice\n",
    "all_resist_results = []\n",
    "\n",
    "# initializing K\n",
    "k = 2\n",
    "# using product() to get Combinations and repeat to get elements\n",
    "combos = list(product(range(1, 7), repeat = k))\n",
    "\n",
    "# parse combinations, taking lower result from each\n",
    "dice = 0\n",
    "minus5 = 0\n",
    "minus4 = 0\n",
    "minus3 = 0\n",
    "minus2 = 0\n",
    "minus1 = 0\n",
    "zero = 0\n",
    "plus1 = 0\n",
    "total = 36\n",
    "\n",
    "for combo in combos:\n",
    "    stress = 6 - min(combo)\n",
    "    if stress == 5:\n",
    "        minus5 += 1\n",
    "    elif stress == 4:\n",
    "        minus4 += 1\n",
    "    elif stress == 3:\n",
    "        minus3 += 1\n",
    "    elif stress == 2:\n",
    "        minus2 += 1\n",
    "    elif stress == 1:\n",
    "        minus1 += 1\n",
    "    else:\n",
    "        zero += 1\n",
    "percent_minus5 = round(minus5 / total * 100)\n",
    "percent_minus4 = round(minus4 / total * 100)\n",
    "percent_minus3 = round(minus3 / total * 100)\n",
    "percent_minus2 = round(minus2 / total * 100)\n",
    "percent_minus1 = round(minus1 / total * 100)\n",
    "percent_zero = round(zero / total * 100)\n",
    "percent_plus1 = 0       \n",
    "resist_results = [dice, percent_minus5, percent_minus4, percent_minus3, percent_minus2, percent_minus1, zero, percent_plus1]\n",
    "all_resist_results.append(resist_results)\n",
    "all_resist_results"
   ]
  },
  {
   "cell_type": "code",
   "execution_count": 8,
   "metadata": {},
   "outputs": [
    {
     "data": {
      "text/plain": [
       "[[0, 31, 25, 19, 14, 8, 1, 0],\n",
       " [1, 17, 17, 17, 17, 17, 17, 0],\n",
       " [2, 3, 8, 14, 19, 25, 28, 3],\n",
       " [3, 0, 3, 9, 17, 28, 35, 7],\n",
       " [4, 0, 1, 5, 14, 28, 39, 13],\n",
       " [5, 0, 0, 3, 10, 27, 40, 20]]"
      ]
     },
     "execution_count": 8,
     "metadata": {},
     "output_type": "execute_result"
    }
   ],
   "source": [
    "# # get the results for positive dice pools\n",
    "for i in range(5):\n",
    "\n",
    "    # initializing K\n",
    "    k = i + 1\n",
    "    # using product() to get Combinations and repeat to get elements\n",
    "    combos = list(product(range(1, 7), repeat = k))\n",
    "\n",
    "    dice = k\n",
    "    minus5 = 0\n",
    "    minus4 = 0\n",
    "    minus3 = 0\n",
    "    minus2 = 0\n",
    "    minus1 = 0\n",
    "    zero = 0\n",
    "    plus1 = 0\n",
    "    total = 6**k\n",
    "\n",
    "    for combo in combos:\n",
    "        if combo.count(6) >=2:\n",
    "            plus1 += 1\n",
    "        elif 6 - max(combo) == 0:\n",
    "            zero += 1\n",
    "        elif 6 - max(combo) == 1:\n",
    "            minus1 += 1\n",
    "        elif 6 - max(combo) == 2:\n",
    "            minus2 += 1\n",
    "        elif 6 - max(combo) == 3:\n",
    "            minus3 += 1\n",
    "        elif 6 - max(combo) == 4:\n",
    "            minus4 += 1\n",
    "        elif 6 - max(combo) == 5:\n",
    "            minus5 += 1\n",
    "\n",
    "    percent_minus5 = round(minus5 / total * 100)\n",
    "    percent_minus4 = round(minus4 / total * 100)\n",
    "    percent_minus3 = round(minus3 / total * 100)\n",
    "    percent_minus2 = round(minus2 / total * 100)\n",
    "    percent_minus1 = round(minus1 / total * 100)\n",
    "    percent_zero = round(zero / total * 100)\n",
    "    percent_plus1 = round(plus1 / total * 100)\n",
    "    resist_results = [dice, percent_minus5, percent_minus4, percent_minus3, percent_minus2, percent_minus1, percent_zero, percent_plus1]\n",
    "    all_resist_results.append(resist_results)\n",
    "all_resist_results"
   ]
  },
  {
   "cell_type": "code",
   "execution_count": 35,
   "metadata": {
    "scrolled": true
   },
   "outputs": [
    {
     "data": {
      "text/html": [
       "<div>\n",
       "<style scoped>\n",
       "    .dataframe tbody tr th:only-of-type {\n",
       "        vertical-align: middle;\n",
       "    }\n",
       "\n",
       "    .dataframe tbody tr th {\n",
       "        vertical-align: top;\n",
       "    }\n",
       "\n",
       "    .dataframe thead th {\n",
       "        text-align: right;\n",
       "    }\n",
       "</style>\n",
       "<table border=\"1\" class=\"dataframe\">\n",
       "  <thead>\n",
       "    <tr style=\"text-align: right;\">\n",
       "      <th></th>\n",
       "      <th>Dice</th>\n",
       "      <th>5</th>\n",
       "      <th>4</th>\n",
       "      <th>3</th>\n",
       "      <th>2</th>\n",
       "      <th>1</th>\n",
       "      <th>0</th>\n",
       "      <th>-1</th>\n",
       "    </tr>\n",
       "  </thead>\n",
       "  <tbody>\n",
       "    <tr>\n",
       "      <th>0</th>\n",
       "      <td>0</td>\n",
       "      <td>31</td>\n",
       "      <td>25</td>\n",
       "      <td>19</td>\n",
       "      <td>14</td>\n",
       "      <td>8</td>\n",
       "      <td>1</td>\n",
       "      <td>0</td>\n",
       "    </tr>\n",
       "    <tr>\n",
       "      <th>1</th>\n",
       "      <td>1</td>\n",
       "      <td>17</td>\n",
       "      <td>17</td>\n",
       "      <td>17</td>\n",
       "      <td>17</td>\n",
       "      <td>17</td>\n",
       "      <td>17</td>\n",
       "      <td>0</td>\n",
       "    </tr>\n",
       "    <tr>\n",
       "      <th>2</th>\n",
       "      <td>2</td>\n",
       "      <td>3</td>\n",
       "      <td>8</td>\n",
       "      <td>14</td>\n",
       "      <td>19</td>\n",
       "      <td>25</td>\n",
       "      <td>28</td>\n",
       "      <td>3</td>\n",
       "    </tr>\n",
       "    <tr>\n",
       "      <th>3</th>\n",
       "      <td>3</td>\n",
       "      <td>0</td>\n",
       "      <td>3</td>\n",
       "      <td>9</td>\n",
       "      <td>17</td>\n",
       "      <td>28</td>\n",
       "      <td>35</td>\n",
       "      <td>7</td>\n",
       "    </tr>\n",
       "    <tr>\n",
       "      <th>4</th>\n",
       "      <td>4</td>\n",
       "      <td>0</td>\n",
       "      <td>1</td>\n",
       "      <td>5</td>\n",
       "      <td>14</td>\n",
       "      <td>28</td>\n",
       "      <td>39</td>\n",
       "      <td>13</td>\n",
       "    </tr>\n",
       "    <tr>\n",
       "      <th>5</th>\n",
       "      <td>5</td>\n",
       "      <td>0</td>\n",
       "      <td>0</td>\n",
       "      <td>3</td>\n",
       "      <td>10</td>\n",
       "      <td>27</td>\n",
       "      <td>40</td>\n",
       "      <td>20</td>\n",
       "    </tr>\n",
       "  </tbody>\n",
       "</table>\n",
       "</div>"
      ],
      "text/plain": [
       "   Dice   5   4   3   2   1   0  -1\n",
       "0     0  31  25  19  14   8   1   0\n",
       "1     1  17  17  17  17  17  17   0\n",
       "2     2   3   8  14  19  25  28   3\n",
       "3     3   0   3   9  17  28  35   7\n",
       "4     4   0   1   5  14  28  39  13\n",
       "5     5   0   0   3  10  27  40  20"
      ]
     },
     "execution_count": 35,
     "metadata": {},
     "output_type": "execute_result"
    }
   ],
   "source": [
    "resist_df = pd.DataFrame(all_resist_results, columns=['Dice', '5', '4', '3', '2', '1', '0', '-1'])\n",
    "resist_df"
   ]
  },
  {
   "cell_type": "code",
   "execution_count": 38,
   "metadata": {},
   "outputs": [
    {
     "name": "stdout",
     "output_type": "stream",
     "text": [
      "|   Dice | 5   | 4   | 3   | 2   | 1   | 0   | -1   |\n",
      "|-------:|:----|:----|:----|:----|:----|:----|:-----|\n",
      "|      0 | 31% | 25% | 19% | 14% | 8%  | 1%  | 0%   |\n",
      "|      1 | 17% | 17% | 17% | 17% | 17% | 17% | 0%   |\n",
      "|      2 | 3%  | 8%  | 14% | 19% | 25% | 28% | 3%   |\n",
      "|      3 | 0%  | 3%  | 9%  | 17% | 28% | 35% | 7%   |\n",
      "|      4 | 0%  | 1%  | 5%  | 14% | 28% | 39% | 13%  |\n",
      "|      5 | 0%  | 0%  | 3%  | 10% | 27% | 40% | 20%  |\n"
     ]
    }
   ],
   "source": [
    "resist_df = resist_df_formatted\n",
    "resist_df_formatted['5'] = resist_df['5'].map('{}%'.format)\n",
    "resist_df_formatted['4'] = resist_df['4'].map('{}%'.format)\n",
    "resist_df_formatted['3'] = resist_df['3'].map('{}%'.format)\n",
    "resist_df_formatted['2'] = resist_df['2'].map('{}%'.format)\n",
    "resist_df_formatted['1'] = resist_df['1'].map('{}%'.format)\n",
    "resist_df_formatted['0'] = resist_df['0'].map('{}%'.format)\n",
    "resist_df_formatted['-1'] = resist_df['-1'].map('{}%'.format)\n",
    "print(resist_df_formatted.to_markdown(index=False))"
   ]
  },
  {
   "cell_type": "code",
   "execution_count": 11,
   "metadata": {},
   "outputs": [
    {
     "data": {
      "image/png": "[encoded data removed]",
      "text/plain": [
       "<Figure size 720x432 with 1 Axes>"
      ]
     },
     "metadata": {
      "needs_background": "light"
     },
     "output_type": "display_data"
    }
   ],
   "source": [
    "plt.subplots(figsize=(10, 6))\n",
    "plt.plot(resist_df.Dice, resist_df['5'])\n",
    "plt.plot(resist_df.Dice, resist_df['4'])\n",
    "plt.plot(resist_df.Dice, resist_df['3'])\n",
    "plt.plot(resist_df.Dice, resist_df['2'])\n",
    "plt.plot(resist_df.Dice, resist_df['1'])\n",
    "plt.plot(resist_df.Dice, resist_df['0'])\n",
    "plt.plot(resist_df.Dice, resist_df['-1'])\n",
    "plt.grid(True)\n",
    "plt.xlabel('Number of Dice')\n",
    "plt.ylabel('Percent Chance')\n",
    "plt.legend(['5 stress', '4 stress', '3 stress', '2 stress', '1 stress', '0 stress', '+1 stress'], loc='upper left')\n",
    "plt.show()"
   ]
  },
  {
   "cell_type": "code",
   "execution_count": 12,
   "metadata": {
    "scrolled": true
   },
   "outputs": [
    {
     "data": {
      "image/png": "[encoded data removed]",
      "text/plain": [
       "<Figure size 576x432 with 1 Axes>"
      ]
     },
     "metadata": {
      "needs_background": "light"
     },
     "output_type": "display_data"
    }
   ],
   "source": [
    "resist_df.plot(x='Dice', kind='bar', stacked=True, figsize=(8, 6))\n",
    "plt.xticks(rotation=360)\n",
    "plt.gca().legend(loc='lower left', bbox_to_anchor=(1, 0.6))\n",
    "plt.savefig('resist.png')"
   ]
  }
 ],
 "metadata": {
  "kernelspec": {
   "display_name": "PythonData",
   "language": "python",
   "name": "pythondata"
  },
  "language_info": {
   "codemirror_mode": {
    "name": "ipython",
    "version": 3
   },
   "file_extension": ".py",
   "mimetype": "text/x-python",
   "name": "python",
   "nbconvert_exporter": "python",
   "pygments_lexer": "ipython3",
   "version": "3.7.9"
  }
 },
 "nbformat": 4,
 "nbformat_minor": 4
}
