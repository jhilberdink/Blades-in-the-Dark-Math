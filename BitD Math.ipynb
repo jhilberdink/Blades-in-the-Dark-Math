{
 "cells": [
  {
   "cell_type": "code",
   "execution_count": 1,
   "metadata": {},
   "outputs": [],
   "source": [
    "import pandas as pd"
   ]
  },
  {
   "cell_type": "code",
   "execution_count": 2,
   "metadata": {},
   "outputs": [],
   "source": [
    "from itertools import product"
   ]
  },
  {
   "cell_type": "code",
   "execution_count": 43,
   "metadata": {},
   "outputs": [
    {
     "name": "stdout",
     "output_type": "stream",
     "text": [
      "[[1, 0, 1, 2, 3], [2, 1, 10, 16, 9], [3, 16, 75, 98, 27]]\n"
     ]
    }
   ],
   "source": [
    "all_results = []\n",
    "for i in range(3):\n",
    "\n",
    "# initializing K\n",
    "    k = i + 1\n",
    "    # using product() to get Combinations and repeat to get elements\n",
    "    combos = list(product(range(1, 7), repeat = k))\n",
    "    \n",
    "    # parse the combinations for outcomes\n",
    "    dice = k\n",
    "    crit = 0\n",
    "    success = 0\n",
    "    mixed = 0\n",
    "    fail = 0\n",
    "    for combo in combos:\n",
    "        if combo.count(6) >= 2:\n",
    "            crit += 1\n",
    "        elif max(combo) == 6:\n",
    "            success += 1\n",
    "        elif max(combo) >= 4:\n",
    "            mixed += 1\n",
    "        else:\n",
    "            fail += 1\n",
    "    results = [dice, crit, success, mixed, fail]\n",
    "    all_results.append(results)\n",
    "print(all_results)"
   ]
  }
 ],
 "metadata": {
  "kernelspec": {
   "display_name": "PythonData",
   "language": "python",
   "name": "pythondata"
  },
  "language_info": {
   "codemirror_mode": {
    "name": "ipython",
    "version": 3
   },
   "file_extension": ".py",
   "mimetype": "text/x-python",
   "name": "python",
   "nbconvert_exporter": "python",
   "pygments_lexer": "ipython3",
   "version": "3.7.9"
  }
 },
 "nbformat": 4,
 "nbformat_minor": 4
}
