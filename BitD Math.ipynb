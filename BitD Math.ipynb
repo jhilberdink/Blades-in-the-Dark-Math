{
 "cells": [
  {
   "cell_type": "code",
   "execution_count": 3,
   "metadata": {},
   "outputs": [],
   "source": [
    "import pandas as pd\n",
    "import numpy as np\n",
    "from itertools import product"
   ]
  },
  {
   "cell_type": "code",
   "execution_count": 26,
   "metadata": {},
   "outputs": [
    {
     "data": {
      "text/plain": [
       "[[0, 75, 22, 3, 0]]"
      ]
     },
     "execution_count": 26,
     "metadata": {},
     "output_type": "execute_result"
    }
   ],
   "source": [
    "# get results for zero dice\n",
    "all_results = []\n",
    "\n",
    "# initializing K\n",
    "k = 2\n",
    "# using product() to get Combinations and repeat to get elements\n",
    "combos = list(product(range(1, 7), repeat = k))\n",
    "\n",
    "# parse combinations, taking lower result from each\n",
    "dice = 0\n",
    "crit = 0\n",
    "success = 0\n",
    "mixed = 0\n",
    "fail = 0\n",
    "total = 36\n",
    "for combo in combos:\n",
    "    if min(combo) == 6:\n",
    "        success += 1\n",
    "    elif min(combo) >= 4:\n",
    "        mixed += 1\n",
    "    else: fail +=1\n",
    "percent_success = round(success / total * 100)\n",
    "percent_mixed = round(mixed / total * 100)\n",
    "percent_fail = round(fail / total * 100)\n",
    "results = [dice, percent_fail, percent_mixed, percent_success, crit]\n",
    "all_results.append(results)\n",
    "all_results"
   ]
  },
  {
   "cell_type": "code",
   "execution_count": 27,
   "metadata": {},
   "outputs": [
    {
     "data": {
      "text/plain": [
       "[[0, 75, 22, 3, 0],\n",
       " [1, 50, 33, 17, 0],\n",
       " [2, 25, 44, 28, 3],\n",
       " [3, 12, 45, 35, 7],\n",
       " [4, 6, 42, 39, 13],\n",
       " [5, 3, 37, 40, 20],\n",
       " [6, 2, 32, 40, 26],\n",
       " [7, 1, 27, 39, 33]]"
      ]
     },
     "execution_count": 27,
     "metadata": {},
     "output_type": "execute_result"
    }
   ],
   "source": [
    "# get results for non-zero dice pools\n",
    "\n",
    "# loop through pool totals from one to seven\n",
    "for i in range(7):\n",
    "\n",
    "# initializing K\n",
    "    k = i + 1\n",
    "    # using product() to get Combinations and repeat to get elements\n",
    "    combos = list(product(range(1, 7), repeat = k))\n",
    "    \n",
    "    # parse the combinations for outcomes\n",
    "    dice = k\n",
    "    crit = 0\n",
    "    success = 0\n",
    "    mixed = 0\n",
    "    fail = 0\n",
    "    total = 6**k\n",
    "    for combo in combos:\n",
    "        if combo.count(6) >= 2:\n",
    "            crit += 1\n",
    "        elif max(combo) == 6:\n",
    "            success += 1\n",
    "        elif max(combo) >= 4:\n",
    "            mixed += 1\n",
    "        else:\n",
    "            fail += 1\n",
    "    percent_crit = round(crit / total * 100)\n",
    "    percent_success = round(success / total * 100)\n",
    "    percent_mixed = round(mixed / total * 100)\n",
    "    percent_fail = round(fail / total * 100)\n",
    "    results = [dice, percent_fail, percent_mixed, percent_success, percent_crit]\n",
    "    all_results.append(results)\n",
    "all_results"
   ]
  },
  {
   "cell_type": "code",
   "execution_count": 28,
   "metadata": {},
   "outputs": [
    {
     "data": {
      "text/html": [
       "<div>\n",
       "<style scoped>\n",
       "    .dataframe tbody tr th:only-of-type {\n",
       "        vertical-align: middle;\n",
       "    }\n",
       "\n",
       "    .dataframe tbody tr th {\n",
       "        vertical-align: top;\n",
       "    }\n",
       "\n",
       "    .dataframe thead th {\n",
       "        text-align: right;\n",
       "    }\n",
       "</style>\n",
       "<table border=\"1\" class=\"dataframe\">\n",
       "  <thead>\n",
       "    <tr style=\"text-align: right;\">\n",
       "      <th></th>\n",
       "      <th>% Failure</th>\n",
       "      <th>% Mixed</th>\n",
       "      <th>% Success</th>\n",
       "      <th>% Critical</th>\n",
       "    </tr>\n",
       "    <tr>\n",
       "      <th>Dice</th>\n",
       "      <th></th>\n",
       "      <th></th>\n",
       "      <th></th>\n",
       "      <th></th>\n",
       "    </tr>\n",
       "  </thead>\n",
       "  <tbody>\n",
       "    <tr>\n",
       "      <th>0</th>\n",
       "      <td>75</td>\n",
       "      <td>22</td>\n",
       "      <td>3</td>\n",
       "      <td>0</td>\n",
       "    </tr>\n",
       "    <tr>\n",
       "      <th>1</th>\n",
       "      <td>50</td>\n",
       "      <td>33</td>\n",
       "      <td>17</td>\n",
       "      <td>0</td>\n",
       "    </tr>\n",
       "    <tr>\n",
       "      <th>2</th>\n",
       "      <td>25</td>\n",
       "      <td>44</td>\n",
       "      <td>28</td>\n",
       "      <td>3</td>\n",
       "    </tr>\n",
       "    <tr>\n",
       "      <th>3</th>\n",
       "      <td>12</td>\n",
       "      <td>45</td>\n",
       "      <td>35</td>\n",
       "      <td>7</td>\n",
       "    </tr>\n",
       "    <tr>\n",
       "      <th>4</th>\n",
       "      <td>6</td>\n",
       "      <td>42</td>\n",
       "      <td>39</td>\n",
       "      <td>13</td>\n",
       "    </tr>\n",
       "    <tr>\n",
       "      <th>5</th>\n",
       "      <td>3</td>\n",
       "      <td>37</td>\n",
       "      <td>40</td>\n",
       "      <td>20</td>\n",
       "    </tr>\n",
       "    <tr>\n",
       "      <th>6</th>\n",
       "      <td>2</td>\n",
       "      <td>32</td>\n",
       "      <td>40</td>\n",
       "      <td>26</td>\n",
       "    </tr>\n",
       "    <tr>\n",
       "      <th>7</th>\n",
       "      <td>1</td>\n",
       "      <td>27</td>\n",
       "      <td>39</td>\n",
       "      <td>33</td>\n",
       "    </tr>\n",
       "  </tbody>\n",
       "</table>\n",
       "</div>"
      ],
      "text/plain": [
       "      % Failure  % Mixed  % Success  % Critical\n",
       "Dice                                           \n",
       "0            75       22          3           0\n",
       "1            50       33         17           0\n",
       "2            25       44         28           3\n",
       "3            12       45         35           7\n",
       "4             6       42         39          13\n",
       "5             3       37         40          20\n",
       "6             2       32         40          26\n",
       "7             1       27         39          33"
      ]
     },
     "execution_count": 28,
     "metadata": {},
     "output_type": "execute_result"
    }
   ],
   "source": [
    "# Create a dataframe with the action roll probabilities\n",
    "action_df = pd.DataFrame(all_results, columns=['Dice', '% Failure', '% Mixed', '% Success', '% Critical'])\n",
    "action_df.set_index('Dice')"
   ]
  },
  {
   "cell_type": "code",
   "execution_count": 8,
   "metadata": {},
   "outputs": [],
   "source": [
    "from matplotlib import pyplot as plt"
   ]
  },
  {
   "cell_type": "code",
   "execution_count": 31,
   "metadata": {},
   "outputs": [
    {
     "data": {
      "image/png": "[encoded data removed]",
      "text/plain": [
       "<Figure size 720x432 with 1 Axes>"
      ]
     },
     "metadata": {
      "needs_background": "light"
     },
     "output_type": "display_data"
    }
   ],
   "source": [
    "plt.subplots(figsize=(10, 6))\n",
    "plt.plot(action_df['Dice'], action_df['% Failure'], color='red')\n",
    "plt.plot(action_df['Dice'], action_df['% Mixed'], color='gold')\n",
    "plt.grid(True)\n",
    "plt.show()"
   ]
  }
 ],
 "metadata": {
  "kernelspec": {
   "display_name": "PythonData",
   "language": "python",
   "name": "pythondata"
  },
  "language_info": {
   "codemirror_mode": {
    "name": "ipython",
    "version": 3
   },
   "file_extension": ".py",
   "mimetype": "text/x-python",
   "name": "python",
   "nbconvert_exporter": "python",
   "pygments_lexer": "ipython3",
   "version": "3.7.9"
  }
 },
 "nbformat": 4,
 "nbformat_minor": 4
}
